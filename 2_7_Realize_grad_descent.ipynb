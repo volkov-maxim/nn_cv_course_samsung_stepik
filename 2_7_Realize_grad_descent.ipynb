{
  "nbformat": 4,
  "nbformat_minor": 0,
  "metadata": {
    "colab": {
      "name": "2.7_Realize_grad_descent.ipynb",
      "provenance": [],
      "authorship_tag": "ABX9TyOSDtli5y5rr/naf+l4dVti",
      "include_colab_link": true
    },
    "kernelspec": {
      "name": "python3",
      "display_name": "Python 3"
    },
    "language_info": {
      "name": "python"
    }
  },
  "cells": [
    {
      "cell_type": "markdown",
      "metadata": {
        "id": "view-in-github",
        "colab_type": "text"
      },
      "source": [
        "<a href=\"https://colab.research.google.com/github/volkov-maxim/nn_cv_course_samsung_stepik/blob/main/2_7_Realize_grad_descent.ipynb\" target=\"_parent\"><img src=\"https://colab.research.google.com/assets/colab-badge.svg\" alt=\"Open In Colab\"/></a>"
      ]
    },
    {
      "cell_type": "code",
      "execution_count": 1,
      "metadata": {
        "id": "AyGo5u55mbPQ"
      },
      "outputs": [],
      "source": [
        "import torch"
      ]
    },
    {
      "cell_type": "code",
      "source": [
        "x = torch.tensor([[1., 2., 3., 4.,],\n",
        "                  [5., 6., 7., 8.,],\n",
        "                  [9., 10., 11., 12]], requires_grad=True)"
      ],
      "metadata": {
        "id": "PH5U2k4gmlRA"
      },
      "execution_count": 2,
      "outputs": []
    },
    {
      "cell_type": "code",
      "source": [
        "device = torch.device('cuda:0' if torch.cuda.is_available() else 'cpu')"
      ],
      "metadata": {
        "id": "kcsOUiHInD7P"
      },
      "execution_count": 3,
      "outputs": []
    },
    {
      "cell_type": "code",
      "source": [
        "x = x.to(device)"
      ],
      "metadata": {
        "id": "lYtdXgwInRkg"
      },
      "execution_count": 4,
      "outputs": []
    },
    {
      "cell_type": "code",
      "source": [
        "function = 10 * (x ** 2).sum()"
      ],
      "metadata": {
        "id": "oVkD2W6lnXqk"
      },
      "execution_count": 5,
      "outputs": []
    },
    {
      "cell_type": "code",
      "source": [
        "function.backward()"
      ],
      "metadata": {
        "id": "1-d0FiNkniLd"
      },
      "execution_count": 6,
      "outputs": []
    },
    {
      "cell_type": "code",
      "source": [
        "print(f\"Gradient: {x.grad}\")"
      ],
      "metadata": {
        "colab": {
          "base_uri": "https://localhost:8080/"
        },
        "id": "qZCyM_l7nlhC",
        "outputId": "03e7e756-6559-4f8b-e68c-f600ecc64731"
      },
      "execution_count": 7,
      "outputs": [
        {
          "output_type": "stream",
          "name": "stdout",
          "text": [
            "Gradient: tensor([[ 20.,  40.,  60.,  80.],\n",
            "        [100., 120., 140., 160.],\n",
            "        [180., 200., 220., 240.]])\n"
          ]
        }
      ]
    },
    {
      "cell_type": "code",
      "source": [
        "x, function"
      ],
      "metadata": {
        "colab": {
          "base_uri": "https://localhost:8080/"
        },
        "id": "VdvyDAKJttki",
        "outputId": "b7501a77-a3e4-47ce-8a2d-b27366f5e8a1"
      },
      "execution_count": 12,
      "outputs": [
        {
          "output_type": "execute_result",
          "data": {
            "text/plain": [
              "(tensor([[ 1.,  2.,  3.,  4.],\n",
              "         [ 5.,  6.,  7.,  8.],\n",
              "         [ 9., 10., 11., 12.]], requires_grad=True),\n",
              " tensor(0.5463, grad_fn=<ProdBackward0>))"
            ]
          },
          "metadata": {},
          "execution_count": 12
        }
      ]
    },
    {
      "cell_type": "code",
      "source": [
        "x.data"
      ],
      "metadata": {
        "colab": {
          "base_uri": "https://localhost:8080/"
        },
        "id": "RGe19AV8t3dH",
        "outputId": "8a37beed-b433-425b-9959-d9ffa1874ceb"
      },
      "execution_count": 13,
      "outputs": [
        {
          "output_type": "execute_result",
          "data": {
            "text/plain": [
              "tensor([[ 1.,  2.,  3.,  4.],\n",
              "        [ 5.,  6.,  7.,  8.],\n",
              "        [ 9., 10., 11., 12.]])"
            ]
          },
          "metadata": {},
          "execution_count": 13
        }
      ]
    },
    {
      "cell_type": "code",
      "source": [
        "x.data -= 0.001 * x.grad"
      ],
      "metadata": {
        "id": "O_sqfWgOuAzm"
      },
      "execution_count": 14,
      "outputs": []
    },
    {
      "cell_type": "code",
      "source": [
        "x.data"
      ],
      "metadata": {
        "colab": {
          "base_uri": "https://localhost:8080/"
        },
        "id": "dQ5z9x9KuHBO",
        "outputId": "3427c719-96f0-4034-9482-f252445b9947"
      },
      "execution_count": 15,
      "outputs": [
        {
          "output_type": "execute_result",
          "data": {
            "text/plain": [
              "tensor([[ 0.9800,  1.9600,  2.9400,  3.9200],\n",
              "        [ 4.9000,  5.8800,  6.8600,  7.8400],\n",
              "        [ 8.8200,  9.8000, 10.7800, 11.7600]])"
            ]
          },
          "metadata": {},
          "execution_count": 15
        }
      ]
    },
    {
      "cell_type": "code",
      "source": [
        "x.grad"
      ],
      "metadata": {
        "colab": {
          "base_uri": "https://localhost:8080/"
        },
        "id": "1Y7HSug0uLum",
        "outputId": "39a392b4-0391-4a63-8caa-f8c9936b99bc"
      },
      "execution_count": 16,
      "outputs": [
        {
          "output_type": "execute_result",
          "data": {
            "text/plain": [
              "tensor([[ 20.,  40.,  60.,  80.],\n",
              "        [100., 120., 140., 160.],\n",
              "        [180., 200., 220., 240.]])"
            ]
          },
          "metadata": {},
          "execution_count": 16
        }
      ]
    },
    {
      "cell_type": "code",
      "source": [
        "x.grad.zero_()"
      ],
      "metadata": {
        "colab": {
          "base_uri": "https://localhost:8080/"
        },
        "id": "-uiTtbNVuVb9",
        "outputId": "4c73033f-e7d8-4d8d-8b54-267258add038"
      },
      "execution_count": 17,
      "outputs": [
        {
          "output_type": "execute_result",
          "data": {
            "text/plain": [
              "tensor([[0., 0., 0., 0.],\n",
              "        [0., 0., 0., 0.],\n",
              "        [0., 0., 0., 0.]])"
            ]
          },
          "metadata": {},
          "execution_count": 17
        }
      ]
    },
    {
      "cell_type": "code",
      "source": [
        "x.grad"
      ],
      "metadata": {
        "colab": {
          "base_uri": "https://localhost:8080/"
        },
        "id": "tJ1HSV2CuYB0",
        "outputId": "e54cfa49-fb96-4245-ce35-10ebeb656479"
      },
      "execution_count": 18,
      "outputs": [
        {
          "output_type": "execute_result",
          "data": {
            "text/plain": [
              "tensor([[0., 0., 0., 0.],\n",
              "        [0., 0., 0., 0.],\n",
              "        [0., 0., 0., 0.]])"
            ]
          },
          "metadata": {},
          "execution_count": 18
        }
      ]
    },
    {
      "cell_type": "code",
      "source": [
        "w = torch.tensor([[5., 10.],\n",
        "                  [1., 2.]], requires_grad=True)"
      ],
      "metadata": {
        "id": "1AQpdN80nsfV"
      },
      "execution_count": 36,
      "outputs": []
    },
    {
      "cell_type": "code",
      "source": [
        "alpha = 0.001\n",
        "optimizer = torch.optim.SGD([w], lr=alpha)"
      ],
      "metadata": {
        "id": "ZDveEszDuuTC"
      },
      "execution_count": 37,
      "outputs": []
    },
    {
      "cell_type": "code",
      "source": [
        "for _ in range(500):\n",
        "  function = (w+7).log().log().prod()\n",
        "  function.backward()\n",
        "  #w.data -= alpha * w.grad\n",
        "  #w.grad.zero_()\n",
        "  optimizer.step()\n",
        "  optimizer.zero_grad()"
      ],
      "metadata": {
        "id": "7tTTQhmQn7Q4"
      },
      "execution_count": 38,
      "outputs": []
    },
    {
      "cell_type": "code",
      "source": [
        "w.data"
      ],
      "metadata": {
        "colab": {
          "base_uri": "https://localhost:8080/"
        },
        "id": "en3rRg54peVh",
        "outputId": "0ec1ee1c-b127-4074-88ec-5fff670a0de1"
      },
      "execution_count": 39,
      "outputs": [
        {
          "output_type": "execute_result",
          "data": {
            "text/plain": [
              "tensor([[4.9900, 9.9948],\n",
              "        [0.9775, 1.9825]])"
            ]
          },
          "metadata": {},
          "execution_count": 39
        }
      ]
    },
    {
      "cell_type": "code",
      "source": [
        ""
      ],
      "metadata": {
        "id": "jWpwhoO9pqG-"
      },
      "execution_count": null,
      "outputs": []
    }
  ]
}