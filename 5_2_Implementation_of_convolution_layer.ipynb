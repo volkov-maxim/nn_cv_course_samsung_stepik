{
  "nbformat": 4,
  "nbformat_minor": 0,
  "metadata": {
    "colab": {
      "provenance": [],
      "authorship_tag": "ABX9TyOtmjUC9wzWU2RETniApOj4",
      "include_colab_link": true
    },
    "kernelspec": {
      "name": "python3",
      "display_name": "Python 3"
    },
    "language_info": {
      "name": "python"
    }
  },
  "cells": [
    {
      "cell_type": "markdown",
      "metadata": {
        "id": "view-in-github",
        "colab_type": "text"
      },
      "source": [
        "<a href=\"https://colab.research.google.com/github/volkov-maxim/nn_cv_course_samsung_stepik/blob/main/5_2_Implementation_of_convolution_layer.ipynb\" target=\"_parent\"><img src=\"https://colab.research.google.com/assets/colab-badge.svg\" alt=\"Open In Colab\"/></a>"
      ]
    },
    {
      "cell_type": "code",
      "execution_count": null,
      "metadata": {
        "id": "YcVuCN0RjgIs"
      },
      "outputs": [],
      "source": [
        "import torch\n",
        "import torch.nn.functional as F\n",
        "import numpy as np\n",
        "import torch\n",
        "from abc import ABC, abstractmethod"
      ]
    },
    {
      "cell_type": "code",
      "source": [
        "# Создаем входной массив из двух изображений RGB 3*3\n",
        "input_images = torch.tensor(\n",
        "      [[[[0,  1,  2],\n",
        "         [3,  4,  5],\n",
        "         [6,  7,  8]],\n",
        "\n",
        "        [[9, 10, 11],\n",
        "         [12, 13, 14],\n",
        "         [15, 16, 17]],\n",
        "\n",
        "        [[18, 19, 20],\n",
        "         [21, 22, 23],\n",
        "         [24, 25, 26]]],\n",
        "\n",
        "\n",
        "       [[[27, 28, 29],\n",
        "         [30, 31, 32],\n",
        "         [33, 34, 35]],\n",
        "\n",
        "        [[36, 37, 38],\n",
        "         [39, 40, 41],\n",
        "         [42, 43, 44]],\n",
        "\n",
        "        [[45, 46, 47],\n",
        "         [48, 49, 50],\n",
        "         [51, 52, 53]]]])"
      ],
      "metadata": {
        "id": "SXq-uuSUkBWX"
      },
      "execution_count": null,
      "outputs": []
    },
    {
      "cell_type": "code",
      "source": [
        "correct_padded_images = torch.tensor(\n",
        "       [[[[0.,  0.,  0.,  0.,  0.],\n",
        "          [0.,  0.,  1.,  2.,  0.],\n",
        "          [0.,  3.,  4.,  5.,  0.],\n",
        "          [0.,  6.,  7.,  8.,  0.],\n",
        "          [0.,  0.,  0.,  0.,  0.]],\n",
        "\n",
        "         [[0.,  0.,  0.,  0.,  0.],\n",
        "          [0.,  9., 10., 11.,  0.],\n",
        "          [0., 12., 13., 14.,  0.],\n",
        "          [0., 15., 16., 17.,  0.],\n",
        "          [0.,  0.,  0.,  0.,  0.]],\n",
        "\n",
        "         [[0.,  0.,  0.,  0.,  0.],\n",
        "          [0., 18., 19., 20.,  0.],\n",
        "          [0., 21., 22., 23.,  0.],\n",
        "          [0., 24., 25., 26.,  0.],\n",
        "          [0.,  0.,  0.,  0.,  0.]]],\n",
        "\n",
        "\n",
        "        [[[0.,  0.,  0.,  0.,  0.],\n",
        "          [0., 27., 28., 29.,  0.],\n",
        "          [0., 30., 31., 32.,  0.],\n",
        "          [0., 33., 34., 35.,  0.],\n",
        "          [0.,  0.,  0.,  0.,  0.]],\n",
        "\n",
        "         [[0.,  0.,  0.,  0.,  0.],\n",
        "          [0., 36., 37., 38.,  0.],\n",
        "          [0., 39., 40., 41.,  0.],\n",
        "          [0., 42., 43., 44.,  0.],\n",
        "          [0.,  0.,  0.,  0.,  0.]],\n",
        "\n",
        "         [[0.,  0.,  0.,  0.,  0.],\n",
        "          [0., 45., 46., 47.,  0.],\n",
        "          [0., 48., 49., 50.,  0.],\n",
        "          [0., 51., 52., 53.,  0.],\n",
        "          [0.,  0.,  0.,  0.,  0.]]]])"
      ],
      "metadata": {
        "id": "dLDmmDuKkJA-"
      },
      "execution_count": null,
      "outputs": []
    },
    {
      "cell_type": "code",
      "source": [
        "def get_padding2d(input_images):\n",
        "    # добавить нулей с четырех сторон каждого изображения\n",
        "    padded_images = F.pad(input=input_images.to(torch.float), pad=(1, 1, 1, 1), mode='constant', value=0.)\n",
        "    return padded_images"
      ],
      "metadata": {
        "id": "RaAy34YSkEXk"
      },
      "execution_count": null,
      "outputs": []
    },
    {
      "cell_type": "code",
      "source": [
        "# Проверка происходит автоматически вызовом следующего кода\n",
        "# (раскомментируйте для самостоятельной проверки,\n",
        "#  в коде для сдачи задания должно быть закомментировано):\n",
        "print(torch.allclose(get_padding2d(input_images), correct_padded_images))"
      ],
      "metadata": {
        "colab": {
          "base_uri": "https://localhost:8080/"
        },
        "id": "vGROv-e1kMqm",
        "outputId": "6059591f-925a-4398-a5cf-946fb767211e"
      },
      "execution_count": null,
      "outputs": [
        {
          "output_type": "stream",
          "name": "stdout",
          "text": [
            "True\n"
          ]
        }
      ]
    },
    {
      "cell_type": "code",
      "source": [
        "def calc_out_shape_my(input_matrix_shape, out_channels, kernel_size, stride, padding):\n",
        "    # напишите тут код, вычисляющий выходную размерность\n",
        "    if stride > 0:\n",
        "      out_shape = [input_matrix_shape[0], \n",
        "                   out_channels, \n",
        "                   ((input_matrix_shape[2] + 2*padding - kernel_size) // stride) + 1, \n",
        "                   ((input_matrix_shape[3] + 2*padding - kernel_size) // stride) + 1]\n",
        "    else:\n",
        "        raise Exception(\"Stride must be > 0\")\n",
        "\n",
        "    return out_shape"
      ],
      "metadata": {
        "id": "LGz2IsJmmI2_"
      },
      "execution_count": null,
      "outputs": []
    },
    {
      "cell_type": "code",
      "source": [
        "print(np.array_equal(\n",
        "    calc_out_shape_my(input_matrix_shape=[2, 3, 10, 10],\n",
        "                   out_channels=10,\n",
        "                   kernel_size=3,\n",
        "                   stride=1,\n",
        "                   padding=0),\n",
        "    [2, 10, 8, 8]))"
      ],
      "metadata": {
        "colab": {
          "base_uri": "https://localhost:8080/"
        },
        "id": "S569idXa9xDP",
        "outputId": "a4af9295-a0e6-4d05-d511-4e0e0e442407"
      },
      "execution_count": null,
      "outputs": [
        {
          "output_type": "stream",
          "name": "stdout",
          "text": [
            "True\n"
          ]
        }
      ]
    },
    {
      "cell_type": "code",
      "source": [
        "def calc_out_shape(input_matrix_shape, out_channels, kernel_size, stride, padding):\n",
        "    batch_size, channels_count, input_height, input_width = input_matrix_shape\n",
        "    output_height = (input_height + 2 * padding - (kernel_size - 1) - 1) // stride + 1\n",
        "    output_width = (input_width + 2 * padding - (kernel_size - 1) - 1) // stride + 1\n",
        "\n",
        "    return batch_size, out_channels, output_height, output_width\n",
        "\n",
        "\n",
        "# абстрактный класс для сверточного слоя\n",
        "class ABCConv2d(ABC):\n",
        "    def __init__(self, in_channels, out_channels, kernel_size, stride):\n",
        "        self.in_channels = in_channels\n",
        "        self.out_channels = out_channels\n",
        "        self.kernel_size = kernel_size\n",
        "        self.stride = stride\n",
        "\n",
        "    def set_kernel(self, kernel):\n",
        "        self.kernel = kernel\n",
        "\n",
        "    @abstractmethod\n",
        "    def __call__(self, input_tensor):\n",
        "        pass\n",
        "\n",
        "\n",
        "# класс-обертка над torch.nn.Conv2d для унификации интерфейса\n",
        "class Conv2d(ABCConv2d):\n",
        "    def __init__(self, in_channels, out_channels, kernel_size, stride):\n",
        "        self.conv2d = torch.nn.Conv2d(in_channels, out_channels, kernel_size,\n",
        "                                      stride, padding=0, bias=False)\n",
        "\n",
        "    def set_kernel(self, kernel):\n",
        "        self.conv2d.weight.data = kernel\n",
        "\n",
        "    def __call__(self, input_tensor):\n",
        "        return self.conv2d(input_tensor)\n",
        "\n",
        "\n",
        "# функция, создающая объект класса cls и возвращающая свертку от input_matrix\n",
        "def create_and_call_conv2d_layer(conv2d_layer_class, stride, kernel, input_matrix):\n",
        "    out_channels = kernel.shape[0]\n",
        "    in_channels = kernel.shape[1]\n",
        "    kernel_size = kernel.shape[2]\n",
        "\n",
        "    layer = conv2d_layer_class(in_channels, out_channels, kernel_size, stride)\n",
        "    layer.set_kernel(kernel)\n",
        "\n",
        "    return layer(input_matrix)\n",
        "\n",
        "\n",
        "# Функция, тестирующая класс conv2d_cls.\n",
        "# Возвращает True, если свертка совпадает со сверткой с помощью torch.nn.Conv2d.\n",
        "def test_conv2d_layer(conv2d_layer_class, batch_size=2,\n",
        "                      input_height=4, input_width=4, stride=2):\n",
        "    kernel = torch.tensor(\n",
        "                      [[[[0., 1, 0],\n",
        "                         [1,  2, 1],\n",
        "                         [0,  1, 0]],\n",
        "\n",
        "                        [[1, 2, 1],\n",
        "                         [0, 3, 3],\n",
        "                         [0, 1, 10]],\n",
        "\n",
        "                        [[10, 11, 12],\n",
        "                         [13, 14, 15],\n",
        "                         [16, 17, 18]]]])\n",
        "\n",
        "    in_channels = kernel.shape[1]\n",
        "\n",
        "    input_tensor = torch.arange(0, batch_size * in_channels *\n",
        "                                input_height * input_width,\n",
        "                                out=torch.FloatTensor()) \\\n",
        "        .reshape(batch_size, in_channels, input_height, input_width)\n",
        "\n",
        "    custom_conv2d_out = create_and_call_conv2d_layer(\n",
        "        conv2d_layer_class, stride, kernel, input_tensor)\n",
        "    conv2d_out = create_and_call_conv2d_layer(\n",
        "        Conv2d, stride, kernel, input_tensor)\n",
        "    return torch.allclose(custom_conv2d_out, conv2d_out) \\\n",
        "              and (custom_conv2d_out.shape == conv2d_out.shape)"
      ],
      "metadata": {
        "id": "UEWOWoPBAn9e"
      },
      "execution_count": null,
      "outputs": []
    },
    {
      "cell_type": "code",
      "source": [
        "print(test_conv2d_layer(Conv2d))"
      ],
      "metadata": {
        "colab": {
          "base_uri": "https://localhost:8080/"
        },
        "id": "5eR-LSYpJrQz",
        "outputId": "378ce448-53c4-4a99-ae84-72aaae5dc055"
      },
      "execution_count": null,
      "outputs": [
        {
          "output_type": "stream",
          "name": "stdout",
          "text": [
            "True\n"
          ]
        }
      ]
    },
    {
      "cell_type": "code",
      "source": [
        "# Сверточный слой через циклы.\n",
        "class Conv2dLoop(ABCConv2d):\n",
        "    def __call__(self, input_tensor):\n",
        "\n",
        "        batch_size, out_channels, output_height, output_width = calc_out_shape(input_tensor.shape, \n",
        "                                                                                 self.out_channels, \n",
        "                                                                                 self.kernel_size, \n",
        "                                                                                 self.stride, \n",
        "                                                                                 0)\n",
        "\n",
        "        output_tensor = torch.zeros(batch_size, out_channels, output_height, output_width)\n",
        "\n",
        "        for input_tensor_index in range(batch_size):\n",
        "          \n",
        "          for out_channel in range(self.out_channels):\n",
        "            it_row, ot_row = 0, 0\n",
        "\n",
        "            while it_row + self.kernel_size <= input_tensor.shape[2]: \n",
        "              it_col, ot_col = 0, 0\n",
        "\n",
        "              while it_col + self.kernel_size <= input_tensor.shape[3]: \n",
        "                input_tensor_masked = input_tensor[input_tensor_index, :, it_row:it_row + self.kernel_size, it_col:it_col + self.kernel_size]\n",
        "                output_tensor[input_tensor_index, out_channel, ot_row, ot_col] = torch.sum(torch.mul(input_tensor_masked, \n",
        "                                                                                                     self.kernel[out_channel, :, :, :])).item()\n",
        "\n",
        "                it_col += self.stride\n",
        "                ot_col += 1\n",
        "\n",
        "              it_row += self.stride\n",
        "              ot_row += 1\n",
        "            \n",
        "        return output_tensor\n",
        "\n"
      ],
      "metadata": {
        "id": "yINq0sGfKG37"
      },
      "execution_count": null,
      "outputs": []
    },
    {
      "cell_type": "code",
      "source": [
        "# Корректность реализации определится в сравнении со стандартным слоем из pytorch.\n",
        "# Проверка происходит автоматически вызовом следующего кода\n",
        "# (раскомментируйте для самостоятельной проверки,\n",
        "#  в коде для сдачи задания должно быть закомментировано):\n",
        "print(test_conv2d_layer(Conv2dLoop))"
      ],
      "metadata": {
        "colab": {
          "base_uri": "https://localhost:8080/"
        },
        "id": "0FAATpOHMM2R",
        "outputId": "77b49b8c-8c16-4458-d576-b21008a27a29"
      },
      "execution_count": null,
      "outputs": [
        {
          "output_type": "stream",
          "name": "stdout",
          "text": [
            "True\n"
          ]
        }
      ]
    },
    {
      "cell_type": "code",
      "source": [
        "# Свёрточный слой через матрицы (способ 1)\n",
        "class Conv2dMatrix(ABCConv2d):\n",
        "    # Функция преобразование кернела в матрицу нужного вида.\n",
        "    def _unsqueeze_kernel(self, torch_input, output_height, output_width):\n",
        "        W = torch.zeros(output_height * output_width, torch_input.shape[3]**2)\n",
        "        \n",
        "        # Walk through batch of kernels.\n",
        "        for k_b in range(self.kernel.shape[0]):\n",
        "\n",
        "            # Walk through kernel channels.\n",
        "            for k_ch in range(self.kernel.shape[1]):\n",
        "                expanded_kernel = torch.zeros(torch_input.shape[2], torch_input.shape[3])\n",
        "                expanded_kernel[:self.kernel.shape[2], :self.kernel.shape[3]] = self.kernel[k_b, k_ch, :, :]  \n",
        "                expanded_kernel = expanded_kernel.view((1, -1))[0] # Matrix flattening.\n",
        "                \n",
        "                # Make W' matrix.\n",
        "                for k_row in range(output_height * output_width): \n",
        "                    W[k_row, (k_row % 2)+(k_row // 2)*torch_input.shape[3]:expanded_kernel.shape[0]] = expanded_kernel[:expanded_kernel.shape[0]-(k_row % 2)-(k_row // 2)*torch_input.shape[3]]\n",
        "                \n",
        "                if k_ch == 0:\n",
        "                    kernel_unsqueezed_rgb = W.clone()\n",
        "                else:\n",
        "                    kernel_unsqueezed_rgb = torch.cat((kernel_unsqueezed_rgb, W), 1)\n",
        "\n",
        "            if k_b == 0:\n",
        "                kernel_unsqueezed = kernel_unsqueezed_rgb.clone()\n",
        "            else:\n",
        "                kernel_unsqueezed = torch.cat((kernel_unsqueezed, kernel_unsqueezed_rgb), 0)\n",
        "\n",
        "        return kernel_unsqueezed\n",
        "\n",
        "    def __call__(self, torch_input):\n",
        "        batch_size, out_channels, output_height, output_width\\\n",
        "            = calc_out_shape(\n",
        "                input_matrix_shape=torch_input.shape,\n",
        "                out_channels=self.kernel.shape[0],\n",
        "                kernel_size=self.kernel.shape[2],\n",
        "                stride=self.stride,\n",
        "                padding=0)\n",
        "\n",
        "        kernel_unsqueezed = self._unsqueeze_kernel(torch_input, output_height, output_width)\n",
        "        result = kernel_unsqueezed @ torch_input.view((batch_size, -1)).permute(1, 0)\n",
        "\n",
        "        return result.permute(1, 0).view((batch_size, self.out_channels,\n",
        "                                          output_height, output_width))"
      ],
      "metadata": {
        "id": "yXk3rhV3EydC"
      },
      "execution_count": null,
      "outputs": []
    },
    {
      "cell_type": "code",
      "source": [
        "# Проверка происходит автоматически вызовом следующего кода\n",
        "# (раскомментируйте для самостоятельной проверки,\n",
        "#  в коде для сдачи задания должно быть закомментировано):\n",
        "print(test_conv2d_layer(Conv2dMatrix))"
      ],
      "metadata": {
        "colab": {
          "base_uri": "https://localhost:8080/"
        },
        "id": "n6i8MnxoRiAA",
        "outputId": "4e31e071-3448-42e0-bbb1-76239556f3ef"
      },
      "execution_count": null,
      "outputs": [
        {
          "output_type": "stream",
          "name": "stdout",
          "text": [
            "True\n"
          ]
        }
      ]
    },
    {
      "cell_type": "code",
      "source": [
        "# Свёрточный слой через матрицы (способ 2)\n",
        "class Conv2dMatrixV2(ABCConv2d):\n",
        "    # Функция преобразования кернела в нужный формат.\n",
        "    def _convert_kernel(self):\n",
        "        # Walk through batch of kernels.\n",
        "        for k_b in range(self.kernel.shape[0]):\n",
        "            # Walk through kernel channels.\n",
        "            for k_ch in range(self.kernel.shape[1]):\n",
        "                if k_ch == 0:\n",
        "                    kernel_unsqueezed_rgb = self.kernel[k_b, k_ch, :, :].view((1, -1)).clone()\n",
        "                else:\n",
        "                    kernel_unsqueezed_rgb = torch.cat((kernel_unsqueezed_rgb, \n",
        "                                                      self.kernel[k_b, k_ch, :, :].view((1, -1)).clone()), 1)\n",
        "\n",
        "            if k_b == 0:\n",
        "                converted_kernel = kernel_unsqueezed_rgb.clone()\n",
        "            else:\n",
        "                converted_kernel = torch.cat((converted_kernel, kernel_unsqueezed_rgb), 0)\n",
        "\n",
        "        return converted_kernel\n",
        "\n",
        "    # Функция преобразования входа в нужный формат.\n",
        "    def _convert_input(self, torch_input, output_height, output_width):\n",
        "        # Walk through batch of input.\n",
        "        for ti_b in range(torch_input.shape[0]):\n",
        "            # Walk through input channels.\n",
        "            for ti_ch in range(torch_input.shape[1]):\n",
        "                for ti_row in range(output_height):\n",
        "                    for ti_col in range(output_width):\n",
        "                        \n",
        "                        if ti_col == 0:\n",
        "                            converted_masks = torch.reshape(torch_input[ti_b, ti_ch, ti_row:ti_row+self.kernel_size, ti_col:ti_col+self.kernel_size], (-1,1))\n",
        "                        else:\n",
        "                            converted_masks = torch.cat((converted_masks, \n",
        "                                                      torch.reshape(torch_input[ti_b, ti_ch, ti_row:ti_row+self.kernel_size, ti_col:ti_col+self.kernel_size], (-1,1))), \n",
        "                                                    1)    \n",
        "                    if ti_row == 0:\n",
        "                        converted_channel = converted_masks.clone()\n",
        "                    else:\n",
        "                        converted_channel = torch.cat((converted_channel, converted_masks), 1)\n",
        "                \n",
        "                if ti_ch == 0:\n",
        "                    converted_channels = converted_channel.clone()\n",
        "                else:\n",
        "                    converted_channels = torch.cat((converted_channels, converted_channel), 0)\n",
        "\n",
        "            if ti_b == 0:\n",
        "                converted_input = converted_channels.clone()\n",
        "            else:\n",
        "                converted_input = torch.cat((converted_input, converted_channels), 1)\n",
        "\n",
        "        return converted_input\n",
        "\n",
        "    def __call__(self, torch_input):\n",
        "        batch_size, out_channels, output_height, output_width\\\n",
        "            = calc_out_shape(\n",
        "                input_matrix_shape=torch_input.shape,\n",
        "                out_channels=self.kernel.shape[0],\n",
        "                kernel_size=self.kernel.shape[2],\n",
        "                stride=self.stride,\n",
        "                padding=0)\n",
        "\n",
        "        converted_kernel = self._convert_kernel()\n",
        "        converted_input = self._convert_input(torch_input, output_height, output_width)\n",
        "\n",
        "        conv2d_out_alternative_matrix_v2 = converted_kernel @ converted_input\n",
        "        return conv2d_out_alternative_matrix_v2.transpose(1,0).view(torch_input.shape[0],\n",
        "                                                     self.out_channels, \n",
        "                                                     output_height,\n",
        "                                                     output_width)"
      ],
      "metadata": {
        "id": "EKfm1J2bWg5W"
      },
      "execution_count": null,
      "outputs": []
    },
    {
      "cell_type": "code",
      "source": [
        "# Проверка происходит автоматически вызовом следующего кода\n",
        "# (раскомментируйте для самостоятельной проверки,\n",
        "#  в коде для сдачи задания должно быть закомментировано):\n",
        "print(test_conv2d_layer(Conv2dMatrixV2))"
      ],
      "metadata": {
        "colab": {
          "base_uri": "https://localhost:8080/"
        },
        "id": "JQmhkT1GUbqo",
        "outputId": "47fc07b3-18e7-41d2-b4c4-a593fa42f0b3"
      },
      "execution_count": null,
      "outputs": [
        {
          "output_type": "stream",
          "name": "stdout",
          "text": [
            "True\n"
          ]
        }
      ]
    },
    {
      "cell_type": "code",
      "source": [],
      "metadata": {
        "id": "_UnIS6_Hwwon"
      },
      "execution_count": null,
      "outputs": []
    }
  ]
}