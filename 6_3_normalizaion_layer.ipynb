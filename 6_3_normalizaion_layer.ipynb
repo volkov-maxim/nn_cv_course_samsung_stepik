{
  "nbformat": 4,
  "nbformat_minor": 0,
  "metadata": {
    "colab": {
      "provenance": [],
      "authorship_tag": "ABX9TyOR0/BaS+yf29Kz9cc+khCc"
    },
    "kernelspec": {
      "name": "python3",
      "display_name": "Python 3"
    },
    "language_info": {
      "name": "python"
    }
  },
  "cells": [
    {
      "cell_type": "code",
      "execution_count": 2,
      "metadata": {
        "id": "ZHNaBUZfqChX"
      },
      "outputs": [],
      "source": [
        "import numpy as np\n",
        "import torch\n",
        "import torch.nn as nn"
      ]
    },
    {
      "cell_type": "code",
      "source": [
        "input_size = 3\n",
        "batch_size = 5\n",
        "eps = 1e-1\n",
        "\n",
        "class CustomBatchNorm1d:\n",
        "    def __init__(self, weight, bias, eps, momentum):\n",
        "        self.weight = weight\n",
        "        self.bias = bias\n",
        "        self.eps = eps\n",
        "        self.momentum = momentum\n",
        "        self.eval_mode = False\n",
        "        self.ema_mean = 0\n",
        "        self.ema_var = 1\n",
        "\n",
        "    def __call__(self, input_tensor):\n",
        "        if not self.eval_mode:\n",
        "            batch_mean = torch.mean(input_tensor, dim=0)\n",
        "            batch_var = torch.var(input_tensor, dim=0, unbiased=False)\n",
        "            batch_var_unbiased = torch.var(input_tensor, dim=0, unbiased=True)\n",
        "            self.ema_mean = (1-self.momentum)*batch_mean + self.momentum*self.ema_mean\n",
        "            self.ema_var = (1-self.momentum)*batch_var_unbiased + self.momentum*self.ema_var\n",
        "\n",
        "        else:\n",
        "            batch_mean = self.ema_mean\n",
        "            batch_var = self.ema_var\n",
        "\n",
        "        normed_tensor = ((input_tensor - batch_mean) / (batch_var + self.eps)**(1/2)) * self.weight + self.bias\n",
        "\n",
        "        return normed_tensor\n",
        "\n",
        "    def eval(self):\n",
        "        self.eval_mode = True\n",
        "\n",
        "batch_norm = nn.BatchNorm1d(input_size, eps=eps)\n",
        "batch_norm.bias.data = torch.randn(input_size, dtype=torch.float)\n",
        "batch_norm.weight.data = torch.randn(input_size, dtype=torch.float)\n",
        "batch_norm.momentum = 0.5\n",
        "\n",
        "custom_batch_norm1d = CustomBatchNorm1d(batch_norm.weight.data,\n",
        "                                        batch_norm.bias.data, eps, batch_norm.momentum)\n",
        "\n",
        "# Code validation.\n",
        "all_correct = True\n",
        "\n",
        "for i in range(8):\n",
        "    torch_input = torch.randn(batch_size, input_size, dtype=torch.float)\n",
        "    norm_output = batch_norm(torch_input)\n",
        "    custom_output = custom_batch_norm1d(torch_input)\n",
        "    all_correct &= torch.allclose(norm_output, custom_output, atol=1e-04) \\\n",
        "        and norm_output.shape == custom_output.shape\n",
        "\n",
        "print(all_correct)\n",
        "\n",
        "batch_norm.eval()\n",
        "custom_batch_norm1d.eval()\n",
        "\n",
        "for i in range(8):\n",
        "    torch_input = torch.randn(batch_size, input_size, dtype=torch.float)\n",
        "    norm_output = batch_norm(torch_input)\n",
        "    custom_output = custom_batch_norm1d(torch_input)\n",
        "    all_correct &= torch.allclose(norm_output, custom_output, atol=1e-04) \\\n",
        "        and norm_output.shape == custom_output.shape\n",
        "print(all_correct)"
      ],
      "metadata": {
        "colab": {
          "base_uri": "https://localhost:8080/"
        },
        "id": "IUaFcksYsjWv",
        "outputId": "847d601d-d168-4e71-90a0-2e836f6a4364"
      },
      "execution_count": null,
      "outputs": [
        {
          "output_type": "stream",
          "name": "stdout",
          "text": [
            "True\n",
            "True\n"
          ]
        }
      ]
    },
    {
      "cell_type": "code",
      "source": [
        "# Custom BatchNorm layer for 4D input.\n",
        "\n",
        "eps = 1e-3\n",
        "\n",
        "input_channels = 3\n",
        "batch_size = 3\n",
        "height = 10\n",
        "width = 10\n",
        "\n",
        "batch_norm_2d = nn.BatchNorm2d(input_channels, affine=False, eps=eps)\n",
        "\n",
        "input_tensor = torch.randn(batch_size, input_channels, height, width, dtype=torch.float)\n",
        "\n",
        "\n",
        "def custom_batch_norm2d(input_tensor, eps):\n",
        "    normed_tensor = torch.zeros_like(input_tensor)\n",
        "    for channel in range(input_channels):\n",
        "        batch_mean = torch.mean(input_tensor[:, channel])\n",
        "        batch_var = torch.var(input_tensor[:, channel], unbiased=False)\n",
        "        normed_tensor[:, channel] = ((input_tensor[:, channel] - batch_mean) / (batch_var + eps)**(1/2))\n",
        "    return normed_tensor\n",
        "\n",
        "\n",
        "# Проверка происходит автоматически вызовом следующего кода\n",
        "# (раскомментируйте для самостоятельной проверки,\n",
        "#  в коде для сдачи задания должно быть закомментировано):\n",
        "norm_output = batch_norm_2d(input_tensor)\n",
        "custom_output = custom_batch_norm2d(input_tensor, eps)\n",
        "print(torch.allclose(norm_output, custom_output) and norm_output.shape == custom_output.shape)\n"
      ],
      "metadata": {
        "id": "Xwxj-Iqf0DMb",
        "colab": {
          "base_uri": "https://localhost:8080/"
        },
        "outputId": "ba053e24-06d9-4b34-e5a4-31f449f95b1d"
      },
      "execution_count": null,
      "outputs": [
        {
          "output_type": "stream",
          "name": "stdout",
          "text": [
            "True\n"
          ]
        }
      ]
    },
    {
      "cell_type": "code",
      "source": [
        "# Custom layer (channel) normalization.\n",
        "\n",
        "import torch\n",
        "import torch.nn as nn\n",
        "\n",
        "\n",
        "eps = 1e-10\n",
        "\n",
        "\n",
        "def custom_layer_norm(input_tensor, eps):\n",
        "    normed_tensor = torch.zeros_like(input_tensor)\n",
        "    for item_number in range(input_tensor.shape[0]):\n",
        "        layer_mean = torch.mean(input_tensor[item_number])\n",
        "        layer_var = torch.var(input_tensor[item_number], unbiased=False)\n",
        "        normed_tensor[item_number] = ((input_tensor[item_number] - layer_mean) / (layer_var + eps)**(1/2))\n",
        "\n",
        "    return normed_tensor\n",
        "\n",
        "\n",
        "# Проверка происходит автоматически вызовом следующего кода\n",
        "# (раскомментируйте для самостоятельной проверки,\n",
        "#  в коде для сдачи задания должно быть закомментировано):\n",
        "all_correct = True\n",
        "for dim_count in range(3, 9):\n",
        "    input_tensor = torch.randn(*list(range(3, dim_count + 2)), dtype=torch.float)\n",
        "    layer_norm = nn.LayerNorm(input_tensor.size()[1:], elementwise_affine=False, eps=eps)\n",
        "\n",
        "    norm_output = layer_norm(input_tensor)\n",
        "    custom_output = custom_layer_norm(input_tensor, eps)\n",
        "\n",
        "    all_correct &= torch.allclose(norm_output, custom_output, 1e-2)\n",
        "    all_correct &= norm_output.shape == custom_output.shape\n",
        "print(all_correct)"
      ],
      "metadata": {
        "id": "VGq5Y6vPzoEO",
        "colab": {
          "base_uri": "https://localhost:8080/"
        },
        "outputId": "67a90c9c-b6fe-4d24-d448-facac6df2e15"
      },
      "execution_count": 3,
      "outputs": [
        {
          "output_type": "stream",
          "name": "stdout",
          "text": [
            "True\n"
          ]
        }
      ]
    },
    {
      "cell_type": "code",
      "source": [
        "# Custom instance normalization.\n",
        "\n",
        "import torch\n",
        "import torch.nn as nn\n",
        "\n",
        "eps = 1e-3\n",
        "\n",
        "batch_size = 5\n",
        "input_channels = 2\n",
        "input_length = 30\n",
        "\n",
        "instance_norm = nn.InstanceNorm1d(input_channels, affine=False, eps=eps)\n",
        "\n",
        "input_tensor = torch.randn(batch_size, input_channels, input_length, dtype=torch.float)\n",
        "\n",
        "\n",
        "def custom_instance_norm1d(input_tensor, eps):\n",
        "    normed_tensor = torch.zeros_like(input_tensor)\n",
        "    instance_mean = torch.mean(input_tensor, dim=2, keepdim=True)\n",
        "    instance_var = torch.var(input_tensor, unbiased=False, dim=2, keepdim=True)\n",
        "    normed_tensor = ((input_tensor - instance_mean) / (instance_var + eps)**(1/2))\n",
        "\n",
        "    return normed_tensor\n",
        "\n",
        "\n",
        "# Проверка происходит автоматически вызовом следующего кода\n",
        "# (раскомментируйте для самостоятельной проверки,\n",
        "#  в коде для сдачи задания должно быть закомментировано):\n",
        "norm_output = instance_norm(input_tensor)\n",
        "custom_output = custom_instance_norm1d(input_tensor, eps)\n",
        "print(torch.allclose(norm_output, custom_output, atol=1e-06) and norm_output.shape == custom_output.shape)"
      ],
      "metadata": {
        "colab": {
          "base_uri": "https://localhost:8080/"
        },
        "id": "mpAqsUOstc5_",
        "outputId": "f32648cc-d8c0-4610-b539-b415c59e56e5"
      },
      "execution_count": 11,
      "outputs": [
        {
          "output_type": "stream",
          "name": "stdout",
          "text": [
            "True\n"
          ]
        }
      ]
    },
    {
      "cell_type": "code",
      "source": [
        "# Custom group normalization.\n",
        "\n",
        "import torch\n",
        "import torch.nn as nn\n",
        "\n",
        "channel_count = 6\n",
        "eps = 1e-3\n",
        "batch_size = 20\n",
        "input_size = 2\n",
        "\n",
        "input_tensor = torch.randn(batch_size, channel_count, input_size)\n",
        "\n",
        "\n",
        "def custom_group_norm(input_tensor, groups, eps):\n",
        "    normed_tensor = torch.zeros_like(input_tensor)\n",
        "    for item_number in range(input_tensor.shape[0]):\n",
        "        for group_idx in range(groups):\n",
        "            group_size = int(input_tensor.shape[1]/groups)\n",
        "            group_mean = torch.mean(input_tensor[item_number, group_idx*group_size:group_idx*group_size+group_size])\n",
        "            group_var = torch.var(input_tensor[item_number, group_idx*group_size:group_idx*group_size+group_size], unbiased=False)\n",
        "            normed_tensor[item_number, group_idx*group_size:group_idx*group_size+group_size] = ((input_tensor[item_number, group_idx*group_size:group_idx*group_size+group_size] - group_mean) / (group_var + eps)**(1/2))\n",
        "\n",
        "    return normed_tensor\n",
        "\n",
        "\n",
        "# Проверка происходит автоматически вызовом следующего кода\n",
        "# (раскомментируйте для самостоятельной проверки,\n",
        "#  в коде для сдачи задания должно быть закомментировано):\n",
        "all_correct = True\n",
        "for groups in [1, 2, 3, 6]:\n",
        "    group_norm = nn.GroupNorm(groups, channel_count, eps=eps, affine=False)\n",
        "    norm_output = group_norm(input_tensor)\n",
        "    custom_output = custom_group_norm(input_tensor, groups, eps)\n",
        "    all_correct &= torch.allclose(norm_output, custom_output, 1e-3)\n",
        "    all_correct &= norm_output.shape == custom_output.shape\n",
        "print(all_correct)"
      ],
      "metadata": {
        "colab": {
          "base_uri": "https://localhost:8080/"
        },
        "id": "KTOqFAsz87WE",
        "outputId": "a7c7ed97-2858-4309-e88e-d44c72bad746"
      },
      "execution_count": 14,
      "outputs": [
        {
          "output_type": "stream",
          "name": "stdout",
          "text": [
            "True\n"
          ]
        }
      ]
    }
  ]
}