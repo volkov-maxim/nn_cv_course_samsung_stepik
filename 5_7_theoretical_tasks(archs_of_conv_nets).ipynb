{
  "nbformat": 4,
  "nbformat_minor": 0,
  "metadata": {
    "colab": {
      "provenance": [],
      "gpuType": "T4",
      "authorship_tag": "ABX9TyOubYiq1F/900V9owrlZ7lx",
      "include_colab_link": true
    },
    "kernelspec": {
      "name": "python3",
      "display_name": "Python 3"
    },
    "language_info": {
      "name": "python"
    },
    "accelerator": "GPU",
    "gpuClass": "standard"
  },
  "cells": [
    {
      "cell_type": "markdown",
      "metadata": {
        "id": "view-in-github",
        "colab_type": "text"
      },
      "source": [
        "<a href=\"https://colab.research.google.com/github/volkov-maxim/nn_cv_course_samsung_stepik/blob/main/5_7_theoretical_tasks(archs_of_conv_nets).ipynb\" target=\"_parent\"><img src=\"https://colab.research.google.com/assets/colab-badge.svg\" alt=\"Open In Colab\"/></a>"
      ]
    },
    {
      "cell_type": "code",
      "execution_count": 1,
      "metadata": {
        "id": "bA_0OvhV8wv9"
      },
      "outputs": [],
      "source": [
        "import torch"
      ]
    },
    {
      "cell_type": "code",
      "source": [
        "N = 4\n",
        "C = 3\n",
        "H = 13\n",
        "W = 13"
      ],
      "metadata": {
        "id": "aHPm24me8-R4"
      },
      "execution_count": 7,
      "outputs": []
    },
    {
      "cell_type": "code",
      "source": [
        "x = torch.ones((N, C, H, W))"
      ],
      "metadata": {
        "id": "PexPXzqA9OAz"
      },
      "execution_count": 8,
      "outputs": []
    },
    {
      "cell_type": "code",
      "source": [
        "# 1\n",
        "out1 = torch.nn.Conv2d(in_channels=C, out_channels=C, kernel_size=(3, 1))(x)\n",
        "out2 = torch.nn.Conv2d(in_channels=C, out_channels=C, kernel_size=(1, 3))(out1)\n",
        "print(out2.shape)"
      ],
      "metadata": {
        "colab": {
          "base_uri": "https://localhost:8080/"
        },
        "id": "vVvXXyc29OpN",
        "outputId": "2e1229e7-5a57-4a0b-86ef-cb7ea4cd1445"
      },
      "execution_count": 50,
      "outputs": [
        {
          "output_type": "stream",
          "name": "stdout",
          "text": [
            "torch.Size([4, 3, 11, 11])\n"
          ]
        }
      ]
    },
    {
      "cell_type": "code",
      "source": [
        "out = torch.nn.Conv2d(C, C, kernel_size=(3, 3))(x)\n",
        "print(out.shape)"
      ],
      "metadata": {
        "colab": {
          "base_uri": "https://localhost:8080/"
        },
        "id": "RvyjaFkF9in1",
        "outputId": "94a181cc-fc42-4deb-8254-52f725c83e94"
      },
      "execution_count": 51,
      "outputs": [
        {
          "output_type": "stream",
          "name": "stdout",
          "text": [
            "torch.Size([4, 3, 11, 11])\n"
          ]
        }
      ]
    },
    {
      "cell_type": "code",
      "source": [
        "# 2\n",
        "out1 = torch.nn.Conv2d(in_channels=C, out_channels=C, kernel_size=(3, 3))(x)\n",
        "out2 = torch.nn.Conv2d(in_channels=C, out_channels=C, kernel_size=(3, 3))(out1)\n",
        "print(out2.shape)"
      ],
      "metadata": {
        "colab": {
          "base_uri": "https://localhost:8080/"
        },
        "id": "csYzkBJQ9o3N",
        "outputId": "78dae49a-add1-41d3-c7eb-3a7351b555fa"
      },
      "execution_count": 52,
      "outputs": [
        {
          "output_type": "stream",
          "name": "stdout",
          "text": [
            "torch.Size([4, 3, 9, 9])\n"
          ]
        }
      ]
    },
    {
      "cell_type": "code",
      "source": [
        "out = torch.nn.Conv2d(C, C, kernel_size=(5, 5))(x)\n",
        "print(out.shape)"
      ],
      "metadata": {
        "colab": {
          "base_uri": "https://localhost:8080/"
        },
        "id": "AuAwfK4_BOUp",
        "outputId": "b57f3616-9ba8-4741-a9c7-07accff1a340"
      },
      "execution_count": 53,
      "outputs": [
        {
          "output_type": "stream",
          "name": "stdout",
          "text": [
            "torch.Size([4, 3, 9, 9])\n"
          ]
        }
      ]
    },
    {
      "cell_type": "code",
      "source": [
        "# 3\n",
        "\"\"\" \n",
        "Receptive fields - это область которая после операций свёртки превращается в тензор размером 1х1 пиксель.\n",
        "Решаем обратную задачу: имеем тензор 1х1, его получили применив свёртку 5х5, значит предыдущий тензор был размером 5х5. \n",
        "Теперь имеем тензор 5х5, его получили применив свёртку 5х5 с шагом 2, значит исходный тензор был размером 13х13.\n",
        "\"\"\"\n",
        "out1 = torch.nn.Conv2d(in_channels=C, out_channels=C, kernel_size=(5, 5), stride=(2, 2))(x)\n",
        "out2 = torch.nn.Conv2d(in_channels=C, out_channels=C, kernel_size=(5, 5))(out1)\n",
        "print(out1.shape, out2.shape)"
      ],
      "metadata": {
        "colab": {
          "base_uri": "https://localhost:8080/"
        },
        "id": "qXrqOX6wBXjs",
        "outputId": "96b372b3-4630-47e3-cfd9-1a2885145459"
      },
      "execution_count": 54,
      "outputs": [
        {
          "output_type": "stream",
          "name": "stdout",
          "text": [
            "torch.Size([4, 3, 5, 5]) torch.Size([4, 3, 1, 1])\n"
          ]
        }
      ]
    },
    {
      "cell_type": "code",
      "source": [
        "out = torch.nn.Conv2d(C, C, kernel_size=(13, 13))(x)\n",
        "print(out.shape)"
      ],
      "metadata": {
        "colab": {
          "base_uri": "https://localhost:8080/"
        },
        "id": "GbHpA8CvByHL",
        "outputId": "8724de1f-ca3b-44e5-d3b3-6c2885dff283"
      },
      "execution_count": 55,
      "outputs": [
        {
          "output_type": "stream",
          "name": "stdout",
          "text": [
            "torch.Size([4, 3, 1, 1])\n"
          ]
        }
      ]
    },
    {
      "cell_type": "code",
      "source": [
        "# 4\n",
        "\"\"\"\n",
        "Паддинг не нужно учитывать в размере ядра.\n",
        "Для нескольких слоев : число параметров - сумма каждого слоя\n",
        "Число тренируемых параметров в слое:  Pn=Wn+bn=K*Cin*Cout+b, \n",
        "где K - размер ядра свертки,  Cin,Cout число каналов на входе и на выходе.\n",
        "\"\"\"\n",
        "net_1 = torch.nn.Sequential(\n",
        "    torch.nn.Conv2d(2 * C, 2 * C, kernel_size=(3, 3), padding=1, bias=False)\n",
        ")\n",
        "\n",
        "net_2 = torch.nn.Sequential(\n",
        "    torch.nn.Conv2d(2 * C, C, kernel_size=(1, 1), bias=False),\n",
        "    torch.nn.Conv2d(C, C, kernel_size=(3, 3), padding=1, bias=False),\n",
        "    torch.nn.Conv2d(C, 2 * C, kernel_size=(1, 1), bias=False)\n",
        ")\n",
        "\n",
        "def count_parameters(model):\n",
        "    return sum(p.numel() for p in model.parameters() if p.requires_grad)"
      ],
      "metadata": {
        "id": "h6NCLeeEDhgS"
      },
      "execution_count": 9,
      "outputs": []
    },
    {
      "cell_type": "code",
      "source": [
        "cp_1 = count_parameters(net_1)\n",
        "cp_2 = count_parameters(net_2)\n",
        "print(cp_1, cp_2, cp_1/cp_2)"
      ],
      "metadata": {
        "colab": {
          "base_uri": "https://localhost:8080/"
        },
        "id": "N7fuztX0QCBH",
        "outputId": "478ef8fd-f2a5-40f5-d3fb-5b39b5e55d28"
      },
      "execution_count": 10,
      "outputs": [
        {
          "output_type": "stream",
          "name": "stdout",
          "text": [
            "324 117 2.769230769230769\n"
          ]
        }
      ]
    },
    {
      "cell_type": "markdown",
      "source": [],
      "metadata": {
        "id": "ek9OmepKQfJf"
      }
    }
  ]
}