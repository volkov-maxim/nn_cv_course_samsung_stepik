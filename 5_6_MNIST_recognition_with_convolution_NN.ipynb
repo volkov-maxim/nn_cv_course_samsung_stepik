{
  "nbformat": 4,
  "nbformat_minor": 0,
  "metadata": {
    "colab": {
      "provenance": [],
      "authorship_tag": "ABX9TyPQvJuz9J9eOaysz9B0fxyU"
    },
    "kernelspec": {
      "name": "python3",
      "display_name": "Python 3"
    },
    "language_info": {
      "name": "python"
    }
  },
  "cells": [
    {
      "cell_type": "code",
      "execution_count": null,
      "metadata": {
        "id": "xsAPjdqPYcHI"
      },
      "outputs": [],
      "source": []
    }
  ]
}